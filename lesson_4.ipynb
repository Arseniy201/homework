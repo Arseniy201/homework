{
 "cells": [
  {
   "cell_type": "markdown",
   "metadata": {},
   "source": [
    "# Тема “Обучение без учителя”\n"
   ]
  },
  {
   "cell_type": "markdown",
   "metadata": {},
   "source": [
    "Задание 1\n",
    "Импортируйте библиотеки pandas, numpy и matplotlib.\n",
    "Загрузите \"Boston House Prices dataset\" из встроенных наборов \n",
    "данных библиотеки sklearn.\n",
    "Создайте датафреймы X и y из этих данных.\n",
    "Разбейте эти датафреймы на тренировочные (X_train, y_train) и тестовые (X_test, y_test)\n",
    "с помощью функции train_test_split так, чтобы размер тестовой выборки\n",
    "составлял 20% от всех данных, при этом аргумент random_state должен быть равен 42.\n"
   ]
  },
  {
   "cell_type": "code",
   "execution_count": 35,
   "metadata": {},
   "outputs": [],
   "source": [
    "import pandas as pd\n",
    "import numpy as np\n",
    "import matplotlib.pyplot as plt\n",
    "\n",
    "from sklearn.datasets import load_boston\n",
    "from sklearn.cluster import KMeans\n",
    "from sklearn.model_selection import train_test_split\n",
    "from sklearn.preprocessing import StandardScaler\n",
    "from sklearn.manifold import TSNE\n"
   ]
  },
  {
   "cell_type": "code",
   "execution_count": 29,
   "metadata": {},
   "outputs": [
    {
     "data": {
      "text/html": [
       "<div>\n",
       "<style scoped>\n",
       "    .dataframe tbody tr th:only-of-type {\n",
       "        vertical-align: middle;\n",
       "    }\n",
       "\n",
       "    .dataframe tbody tr th {\n",
       "        vertical-align: top;\n",
       "    }\n",
       "\n",
       "    .dataframe thead th {\n",
       "        text-align: right;\n",
       "    }\n",
       "</style>\n",
       "<table border=\"1\" class=\"dataframe\">\n",
       "  <thead>\n",
       "    <tr style=\"text-align: right;\">\n",
       "      <th></th>\n",
       "      <th>CRIM</th>\n",
       "      <th>ZN</th>\n",
       "      <th>INDUS</th>\n",
       "      <th>CHAS</th>\n",
       "      <th>NOX</th>\n",
       "      <th>RM</th>\n",
       "      <th>AGE</th>\n",
       "      <th>DIS</th>\n",
       "      <th>RAD</th>\n",
       "      <th>TAX</th>\n",
       "      <th>PTRATIO</th>\n",
       "      <th>B</th>\n",
       "      <th>LSTAT</th>\n",
       "    </tr>\n",
       "  </thead>\n",
       "  <tbody>\n",
       "    <tr>\n",
       "      <th>477</th>\n",
       "      <td>15.02340</td>\n",
       "      <td>0.0</td>\n",
       "      <td>18.10</td>\n",
       "      <td>0.0</td>\n",
       "      <td>0.6140</td>\n",
       "      <td>5.304</td>\n",
       "      <td>97.3</td>\n",
       "      <td>2.1007</td>\n",
       "      <td>24.0</td>\n",
       "      <td>666.0</td>\n",
       "      <td>20.2</td>\n",
       "      <td>349.48</td>\n",
       "      <td>24.91</td>\n",
       "    </tr>\n",
       "    <tr>\n",
       "      <th>15</th>\n",
       "      <td>0.62739</td>\n",
       "      <td>0.0</td>\n",
       "      <td>8.14</td>\n",
       "      <td>0.0</td>\n",
       "      <td>0.5380</td>\n",
       "      <td>5.834</td>\n",
       "      <td>56.5</td>\n",
       "      <td>4.4986</td>\n",
       "      <td>4.0</td>\n",
       "      <td>307.0</td>\n",
       "      <td>21.0</td>\n",
       "      <td>395.62</td>\n",
       "      <td>8.47</td>\n",
       "    </tr>\n",
       "    <tr>\n",
       "      <th>332</th>\n",
       "      <td>0.03466</td>\n",
       "      <td>35.0</td>\n",
       "      <td>6.06</td>\n",
       "      <td>0.0</td>\n",
       "      <td>0.4379</td>\n",
       "      <td>6.031</td>\n",
       "      <td>23.3</td>\n",
       "      <td>6.6407</td>\n",
       "      <td>1.0</td>\n",
       "      <td>304.0</td>\n",
       "      <td>16.9</td>\n",
       "      <td>362.25</td>\n",
       "      <td>7.83</td>\n",
       "    </tr>\n",
       "    <tr>\n",
       "      <th>423</th>\n",
       "      <td>7.05042</td>\n",
       "      <td>0.0</td>\n",
       "      <td>18.10</td>\n",
       "      <td>0.0</td>\n",
       "      <td>0.6140</td>\n",
       "      <td>6.103</td>\n",
       "      <td>85.1</td>\n",
       "      <td>2.0218</td>\n",
       "      <td>24.0</td>\n",
       "      <td>666.0</td>\n",
       "      <td>20.2</td>\n",
       "      <td>2.52</td>\n",
       "      <td>23.29</td>\n",
       "    </tr>\n",
       "    <tr>\n",
       "      <th>19</th>\n",
       "      <td>0.72580</td>\n",
       "      <td>0.0</td>\n",
       "      <td>8.14</td>\n",
       "      <td>0.0</td>\n",
       "      <td>0.5380</td>\n",
       "      <td>5.727</td>\n",
       "      <td>69.5</td>\n",
       "      <td>3.7965</td>\n",
       "      <td>4.0</td>\n",
       "      <td>307.0</td>\n",
       "      <td>21.0</td>\n",
       "      <td>390.95</td>\n",
       "      <td>11.28</td>\n",
       "    </tr>\n",
       "  </tbody>\n",
       "</table>\n",
       "</div>"
      ],
      "text/plain": [
       "         CRIM    ZN  INDUS  CHAS     NOX     RM   AGE     DIS   RAD    TAX  \\\n",
       "477  15.02340   0.0  18.10   0.0  0.6140  5.304  97.3  2.1007  24.0  666.0   \n",
       "15    0.62739   0.0   8.14   0.0  0.5380  5.834  56.5  4.4986   4.0  307.0   \n",
       "332   0.03466  35.0   6.06   0.0  0.4379  6.031  23.3  6.6407   1.0  304.0   \n",
       "423   7.05042   0.0  18.10   0.0  0.6140  6.103  85.1  2.0218  24.0  666.0   \n",
       "19    0.72580   0.0   8.14   0.0  0.5380  5.727  69.5  3.7965   4.0  307.0   \n",
       "\n",
       "     PTRATIO       B  LSTAT  \n",
       "477     20.2  349.48  24.91  \n",
       "15      21.0  395.62   8.47  \n",
       "332     16.9  362.25   7.83  \n",
       "423     20.2    2.52  23.29  \n",
       "19      21.0  390.95  11.28  "
      ]
     },
     "execution_count": 29,
     "metadata": {},
     "output_type": "execute_result"
    }
   ],
   "source": [
    "boston = load_boston()\n",
    "\n",
    "X = pd.DataFrame(boston.data, columns=boston.feature_names)\n",
    "y = pd.DataFrame(boston.target, columns=['price'])\n",
    "\n",
    "\n",
    "X_train, X_test, y_train, y_test = train_test_split(X, y, test_size = 0.2, random_state = 42)\n",
    "X_train.shape, X_test.shape, y_train.shape, y_test.shape\n"
   ]
  },
  {
   "cell_type": "markdown",
   "metadata": {},
   "source": [
    "Масштабируйте данные с помощью StandardScaler.\n",
    "Постройте модель TSNE на тренировочный данных с параметрами:\n",
    "n_components=2, learning_rate=250, random_state=42.\n",
    "Постройте диаграмму рассеяния на этих данных.\n"
   ]
  },
  {
   "cell_type": "code",
   "execution_count": 30,
   "metadata": {},
   "outputs": [],
   "source": [
    "scaler = StandardScaler()\n",
    "\n",
    "X_train_scaled=scaler.fit_transform(X_train)\n",
    "X_test_scaled=scaler.transform(X_test)\n",
    "\n",
    "X_train_scaled=pd.DataFrame(X_train_scaled, columns=boston.feature_names)\n",
    "X_train_scaled=pd.DataFrame(X_test_scaled, columns=boston.feature_names)\n"
   ]
  },
  {
   "cell_type": "code",
   "execution_count": 36,
   "metadata": {},
   "outputs": [],
   "source": [
    "tsne = TSNE(n_components=2, learning_rate=250, random_state=42)"
   ]
  },
  {
   "cell_type": "code",
   "execution_count": 40,
   "metadata": {},
   "outputs": [
    {
     "data": {
      "text/plain": [
       "array([[-8.46654475e-02, -9.09478855e+00],\n",
       "       [-4.06562519e+00, -4.91367960e+00],\n",
       "       [ 4.35094738e+00, -5.12193918e+00],\n",
       "       [-3.68255186e+00, -8.59845257e+00],\n",
       "       [ 6.02345276e+00, -3.11294389e+00],\n",
       "       [-1.08000350e+00, -7.69099951e+00],\n",
       "       [ 1.08789079e-01, -6.97110081e+00],\n",
       "       [ 3.51543427e+00, -5.58331394e+00],\n",
       "       [ 5.13430929e+00, -3.08600760e+00],\n",
       "       [ 8.50572467e-01, -7.26510954e+00],\n",
       "       [-3.22340894e+00, -4.16470432e+00],\n",
       "       [-1.24080908e+00, -6.46513128e+00],\n",
       "       [ 9.07792950e+00, -4.16818953e+00],\n",
       "       [-1.87813437e+00, -7.94151115e+00],\n",
       "       [-6.47770286e-01, -7.80586672e+00],\n",
       "       [ 5.15666771e+00, -2.47492075e+00],\n",
       "       [ 2.78150916e+00, -6.31367159e+00],\n",
       "       [ 7.45066547e+00, -4.44129801e+00],\n",
       "       [-5.84655952e+00, -1.17684040e+01],\n",
       "       [ 6.36432076e+00, -3.16007757e+00],\n",
       "       [-3.66662216e+00, -9.50389099e+00],\n",
       "       [-4.05184031e+00, -1.02018156e+01],\n",
       "       [ 6.37586892e-01, -6.13795137e+00],\n",
       "       [ 1.22344494e+00, -8.17438126e+00],\n",
       "       [ 6.63950682e+00, -3.16839075e+00],\n",
       "       [ 6.31595707e+00, -4.00952387e+00],\n",
       "       [-2.68965936e+00, -8.13608742e+00],\n",
       "       [ 8.89306355e+00, -2.33300114e+00],\n",
       "       [-3.27524424e+00, -4.20976114e+00],\n",
       "       [ 5.99732816e-01, -7.24966002e+00],\n",
       "       [-1.15001649e-02, -7.99707794e+00],\n",
       "       [-1.67167687e+00, -8.84030437e+00],\n",
       "       [ 6.31493139e+00, -1.90042329e+00],\n",
       "       [ 5.63256121e+00, -3.81188154e+00],\n",
       "       [ 6.43814230e+00, -3.78966045e+00],\n",
       "       [ 3.80445838e+00, -7.00963354e+00],\n",
       "       [-1.10694492e+00, -1.02018270e+01],\n",
       "       [-1.97157300e+00, -8.94185734e+00],\n",
       "       [-3.48685455e+00, -4.38231659e+00],\n",
       "       [-3.66636705e+00, -8.59628868e+00],\n",
       "       [ 1.05955350e+00, -6.61575413e+00],\n",
       "       [-3.97992224e-01, -1.02313690e+01],\n",
       "       [-5.90038872e+00, -1.17626085e+01],\n",
       "       [-2.67441297e+00, -1.01440506e+01],\n",
       "       [-5.84887385e-01, -9.25746536e+00],\n",
       "       [ 6.12278605e+00, -3.64823532e+00],\n",
       "       [ 6.25131905e-01, -6.37645340e+00],\n",
       "       [-3.71849370e+00, -8.62937737e+00],\n",
       "       [ 5.40264797e+00, -3.20279121e+00],\n",
       "       [-6.14458621e-01, -1.06975117e+01],\n",
       "       [-1.26293206e+00, -6.56091976e+00],\n",
       "       [-1.26976562e+00, -1.12197723e+01],\n",
       "       [ 6.23409867e-01, -6.51119804e+00],\n",
       "       [ 9.08486724e-01, -8.48267460e+00],\n",
       "       [-6.22948766e-01, -1.14600878e+01],\n",
       "       [ 4.72757387e+00, -2.73051929e+00],\n",
       "       [ 6.13170338e+00, -3.12728000e+00],\n",
       "       [-5.01976109e+00, -1.14463024e+01],\n",
       "       [-1.75888288e+00, -9.42854214e+00],\n",
       "       [-2.46925569e+00, -1.11058865e+01],\n",
       "       [-3.33285332e+00, -1.09436255e+01],\n",
       "       [-5.07017660e+00, -1.20791731e+01],\n",
       "       [-3.09351254e+00, -9.02488804e+00],\n",
       "       [-2.65718937e+00, -7.14747143e+00],\n",
       "       [-4.27272892e+00, -1.22975540e+01],\n",
       "       [-3.09909010e+00, -4.09505701e+00],\n",
       "       [ 6.22477913e+00, -2.75294185e+00],\n",
       "       [-3.44902396e+00, -9.99646091e+00],\n",
       "       [-4.92582607e+00, -1.14598331e+01],\n",
       "       [ 8.90325642e+00, -2.40625334e+00],\n",
       "       [-2.33760786e+00, -9.46072292e+00],\n",
       "       [ 4.80819845e+00, -2.63159823e+00],\n",
       "       [ 7.64011478e+00, -3.33283019e+00],\n",
       "       [-4.18019533e+00, -1.24414320e+01],\n",
       "       [-2.17210650e+00, -8.01298332e+00],\n",
       "       [ 8.17771435e+00, -4.64107227e+00],\n",
       "       [ 1.11211598e+00, -7.45838070e+00],\n",
       "       [-5.86206627e+00, -1.17604132e+01],\n",
       "       [ 6.70926189e+00, -2.65679121e+00],\n",
       "       [ 4.56416988e+00, -5.14399004e+00],\n",
       "       [-2.94350386e+00, -9.94604874e+00],\n",
       "       [ 7.09663677e+00, -3.91140294e+00],\n",
       "       [-4.52905798e+00, -1.22745495e+01],\n",
       "       [ 7.06684494e+00, -4.33944845e+00],\n",
       "       [ 3.33921939e-01, -7.60865974e+00],\n",
       "       [-3.72712946e+00, -4.58275127e+00],\n",
       "       [ 7.07913589e+00, -2.54283643e+00],\n",
       "       [-2.36525893e+00, -8.95327091e+00],\n",
       "       [-4.20686817e+00, -9.24813843e+00],\n",
       "       [ 3.17802429e+00, -5.63924694e+00],\n",
       "       [-1.02804947e+00, -9.24075985e+00],\n",
       "       [ 8.77631474e+00, -3.60786963e+00],\n",
       "       [ 3.10235238e+00, -5.65204000e+00],\n",
       "       [-2.51410055e+00, -1.05884581e+01],\n",
       "       [ 5.32230568e+00, -1.10302567e+00],\n",
       "       [ 3.07029128e+00, -5.65183210e+00],\n",
       "       [ 5.78958464e+00, -2.52839279e+00],\n",
       "       [ 9.12169933e+00, -3.64924049e+00],\n",
       "       [ 8.86042404e+00, -2.45568562e+00],\n",
       "       [ 8.90648651e+00, -2.51141930e+00],\n",
       "       [-1.80848980e+00, -9.27989197e+00],\n",
       "       [-2.32934165e+00, -8.11310005e+00]], dtype=float32)"
      ]
     },
     "execution_count": 40,
     "metadata": {},
     "output_type": "execute_result"
    }
   ],
   "source": [
    "X_train_tsne= tsne.fit_transform(X_train_scaled)\n",
    "X_train_tsne"
   ]
  },
  {
   "cell_type": "code",
   "execution_count": 42,
   "metadata": {},
   "outputs": [
    {
     "data": {
      "text/plain": [
       "<matplotlib.collections.PathCollection at 0x7f7f68652f70>"
      ]
     },
     "execution_count": 42,
     "metadata": {},
     "output_type": "execute_result"
    },
    {
     "data": {
      "image/png": "[encoded data removed]",
      "text/plain": [
       "<Figure size 432x288 with 1 Axes>"
      ]
     },
     "metadata": {
      "needs_background": "light"
     },
     "output_type": "display_data"
    }
   ],
   "source": [
    "plt.scatter(X_train_tsne[:, 0], X_train_tsne[:, 1])"
   ]
  },
  {
   "cell_type": "markdown",
   "metadata": {},
   "source": [
    "Задание 2\n",
    "С помощью KMeans разбейте данные из тренировочного набора на 3 кластера,\n",
    "используйте все признаки из датафрейма X_train.\n",
    "Параметр max_iter должен быть равен 100, random staterandom_state сделайте равным 42.\n"
   ]
  },
  {
   "cell_type": "code",
   "execution_count": 43,
   "metadata": {},
   "outputs": [
    {
     "data": {
      "image/png": "[encoded data removed]",
      "text/plain": [
       "<Figure size 432x288 with 1 Axes>"
      ]
     },
     "metadata": {
      "needs_background": "light"
     },
     "output_type": "display_data"
    }
   ],
   "source": [
    "kmeans = KMeans(n_clusters=3)\n",
    "\n",
    "labels_train = kmeans.fit_predict(X_train_scaled)\n",
    "\n",
    "plt.scatter(X_train_tsne[:, 0], X_train_tsne[:, 1], c=labels_train)\n",
    "\n",
    "plt.show()"
   ]
  },
  {
   "cell_type": "markdown",
   "metadata": {},
   "source": [
    "Постройте еще раз диаграмму рассеяния на данных, полученных с помощью TSNE,\n",
    "и раскрасьте точки из разных кластеров разными цветами.\n",
    "Вычислите средние значения price и CRIM в разных кластерах.\n",
    "\n"
   ]
  },
  {
   "cell_type": "code",
   "execution_count": 45,
   "metadata": {},
   "outputs": [
    {
     "name": "stdout",
     "output_type": "stream",
     "text": [
      "Средние значения price:\n"
     ]
    },
    {
     "ename": "ValueError",
     "evalue": "Item wrong length 102 instead of 404.",
     "output_type": "error",
     "traceback": [
      "\u001b[0;31m---------------------------------------------------------------------------\u001b[0m",
      "\u001b[0;31mValueError\u001b[0m                                Traceback (most recent call last)",
      "\u001b[0;32m<ipython-input-45-c199acf4aa0c>\u001b[0m in \u001b[0;36m<module>\u001b[0;34m\u001b[0m\n\u001b[1;32m      1\u001b[0m \u001b[0mprint\u001b[0m\u001b[0;34m(\u001b[0m\u001b[0;34m'Средние значения price:'\u001b[0m\u001b[0;34m)\u001b[0m\u001b[0;34m\u001b[0m\u001b[0;34m\u001b[0m\u001b[0m\n\u001b[0;32m----> 2\u001b[0;31m \u001b[0mprint\u001b[0m\u001b[0;34m(\u001b[0m\u001b[0;34m'Кластер 0: {}'\u001b[0m\u001b[0;34m.\u001b[0m\u001b[0mformat\u001b[0m\u001b[0;34m(\u001b[0m\u001b[0my_train\u001b[0m\u001b[0;34m[\u001b[0m\u001b[0mlabels_train\u001b[0m \u001b[0;34m==\u001b[0m \u001b[0;36m0\u001b[0m\u001b[0;34m]\u001b[0m\u001b[0;34m.\u001b[0m\u001b[0mmean\u001b[0m\u001b[0;34m(\u001b[0m\u001b[0;34m)\u001b[0m\u001b[0;34m)\u001b[0m\u001b[0;34m)\u001b[0m\u001b[0;34m\u001b[0m\u001b[0;34m\u001b[0m\u001b[0m\n\u001b[0m\u001b[1;32m      3\u001b[0m \u001b[0mprint\u001b[0m\u001b[0;34m(\u001b[0m\u001b[0;34m'Кластер 1: {}'\u001b[0m\u001b[0;34m.\u001b[0m\u001b[0mformat\u001b[0m\u001b[0;34m(\u001b[0m\u001b[0my_train\u001b[0m\u001b[0;34m[\u001b[0m\u001b[0mlabels_train\u001b[0m \u001b[0;34m==\u001b[0m \u001b[0;36m1\u001b[0m\u001b[0;34m]\u001b[0m\u001b[0;34m.\u001b[0m\u001b[0mmean\u001b[0m\u001b[0;34m(\u001b[0m\u001b[0;34m)\u001b[0m\u001b[0;34m)\u001b[0m\u001b[0;34m)\u001b[0m\u001b[0;34m\u001b[0m\u001b[0;34m\u001b[0m\u001b[0m\n\u001b[1;32m      4\u001b[0m \u001b[0mprint\u001b[0m\u001b[0;34m(\u001b[0m\u001b[0;34m'Кластер 2: {}'\u001b[0m\u001b[0;34m.\u001b[0m\u001b[0mformat\u001b[0m\u001b[0;34m(\u001b[0m\u001b[0my_train\u001b[0m\u001b[0;34m[\u001b[0m\u001b[0mlabels_train\u001b[0m \u001b[0;34m==\u001b[0m \u001b[0;36m2\u001b[0m\u001b[0;34m]\u001b[0m\u001b[0;34m.\u001b[0m\u001b[0mmean\u001b[0m\u001b[0;34m(\u001b[0m\u001b[0;34m)\u001b[0m\u001b[0;34m)\u001b[0m\u001b[0;34m)\u001b[0m\u001b[0;34m\u001b[0m\u001b[0;34m\u001b[0m\u001b[0m\n\u001b[1;32m      5\u001b[0m \u001b[0mprint\u001b[0m\u001b[0;34m(\u001b[0m\u001b[0;34m'Средние значения CRIM:'\u001b[0m\u001b[0;34m)\u001b[0m\u001b[0;34m\u001b[0m\u001b[0;34m\u001b[0m\u001b[0m\n",
      "\u001b[0;32m~/opt/anaconda3/lib/python3.8/site-packages/pandas/core/frame.py\u001b[0m in \u001b[0;36m__getitem__\u001b[0;34m(self, key)\u001b[0m\n\u001b[1;32m   2891\u001b[0m         \u001b[0;31m# Do we have a (boolean) 1d indexer?\u001b[0m\u001b[0;34m\u001b[0m\u001b[0;34m\u001b[0m\u001b[0;34m\u001b[0m\u001b[0m\n\u001b[1;32m   2892\u001b[0m         \u001b[0;32mif\u001b[0m \u001b[0mcom\u001b[0m\u001b[0;34m.\u001b[0m\u001b[0mis_bool_indexer\u001b[0m\u001b[0;34m(\u001b[0m\u001b[0mkey\u001b[0m\u001b[0;34m)\u001b[0m\u001b[0;34m:\u001b[0m\u001b[0;34m\u001b[0m\u001b[0;34m\u001b[0m\u001b[0m\n\u001b[0;32m-> 2893\u001b[0;31m             \u001b[0;32mreturn\u001b[0m \u001b[0mself\u001b[0m\u001b[0;34m.\u001b[0m\u001b[0m_getitem_bool_array\u001b[0m\u001b[0;34m(\u001b[0m\u001b[0mkey\u001b[0m\u001b[0;34m)\u001b[0m\u001b[0;34m\u001b[0m\u001b[0;34m\u001b[0m\u001b[0m\n\u001b[0m\u001b[1;32m   2894\u001b[0m \u001b[0;34m\u001b[0m\u001b[0m\n\u001b[1;32m   2895\u001b[0m         \u001b[0;31m# We are left with two options: a single key, and a collection of keys,\u001b[0m\u001b[0;34m\u001b[0m\u001b[0;34m\u001b[0m\u001b[0;34m\u001b[0m\u001b[0m\n",
      "\u001b[0;32m~/opt/anaconda3/lib/python3.8/site-packages/pandas/core/frame.py\u001b[0m in \u001b[0;36m_getitem_bool_array\u001b[0;34m(self, key)\u001b[0m\n\u001b[1;32m   2937\u001b[0m             )\n\u001b[1;32m   2938\u001b[0m         \u001b[0;32melif\u001b[0m \u001b[0mlen\u001b[0m\u001b[0;34m(\u001b[0m\u001b[0mkey\u001b[0m\u001b[0;34m)\u001b[0m \u001b[0;34m!=\u001b[0m \u001b[0mlen\u001b[0m\u001b[0;34m(\u001b[0m\u001b[0mself\u001b[0m\u001b[0;34m.\u001b[0m\u001b[0mindex\u001b[0m\u001b[0;34m)\u001b[0m\u001b[0;34m:\u001b[0m\u001b[0;34m\u001b[0m\u001b[0;34m\u001b[0m\u001b[0m\n\u001b[0;32m-> 2939\u001b[0;31m             raise ValueError(\n\u001b[0m\u001b[1;32m   2940\u001b[0m                 \u001b[0;34mf\"Item wrong length {len(key)} instead of {len(self.index)}.\"\u001b[0m\u001b[0;34m\u001b[0m\u001b[0;34m\u001b[0m\u001b[0m\n\u001b[1;32m   2941\u001b[0m             )\n",
      "\u001b[0;31mValueError\u001b[0m: Item wrong length 102 instead of 404."
     ]
    }
   ],
   "source": [
    "print('Средние значения price:')\n",
    "print('Кластер 0: {}'.format(y_train[labels_train == 0].mean()))\n",
    "print('Кластер 1: {}'.format(y_train[labels_train == 1].mean()))\n",
    "print('Кластер 2: {}'.format(y_train[labels_train == 2].mean()))\n",
    "print('Средние значения CRIM:')\n",
    "print('Кластер 0: {}'.format(X_train.loc[labels_train == 0, 'CRIM'].mean()))\n",
    "print('Кластер 1: {}'.format(X_train.loc[labels_train == 1, 'CRIM'].mean()))\n",
    "print('Кластер 2: {}'.format(X_train.loc[labels_train == 2, 'CRIM'].mean()))"
   ]
  },
  {
   "cell_type": "markdown",
   "metadata": {},
   "source": [
    "3.Примените модель KMeans, построенную в предыдущем задании, к данным из тестового набора. Вычислите средние значения price и CRIM в разных кластерах на тестовых данных."
   ]
  },
  {
   "cell_type": "code",
   "execution_count": 46,
   "metadata": {},
   "outputs": [],
   "source": [
    "labels_test = kmeans.predict(X_test_scaled)"
   ]
  },
  {
   "cell_type": "code",
   "execution_count": 47,
   "metadata": {},
   "outputs": [
    {
     "name": "stdout",
     "output_type": "stream",
     "text": [
      "Средние значения price:\n",
      "Кластер 0: price    34.12\n",
      "dtype: float64\n",
      "Кластер 1: price    16.710526\n",
      "dtype: float64\n",
      "Кластер 2: price    22.511111\n",
      "dtype: float64\n",
      "Средние значения CRIM:\n",
      "Кластер 0: 0.042277\n",
      "Кластер 1: 9.419181842105264\n",
      "Кластер 2: 0.22231277777777778\n"
     ]
    }
   ],
   "source": [
    "print('Средние значения price:')\n",
    "print('Кластер 0: {}'.format(y_test[labels_test == 0].mean()))\n",
    "print('Кластер 1: {}'.format(y_test[labels_test == 1].mean()))\n",
    "print('Кластер 2: {}'.format(y_test[labels_test == 2].mean()))\n",
    "print('Средние значения CRIM:')\n",
    "print('Кластер 0: {}'.format(X_test.loc[labels_test == 0, 'CRIM'].mean()))\n",
    "print('Кластер 1: {}'.format(X_test.loc[labels_test == 1, 'CRIM'].mean()))\n",
    "print('Кластер 2: {}'.format(X_test.loc[labels_test == 2, 'CRIM'].mean()))"
   ]
  },
  {
   "cell_type": "code",
   "execution_count": null,
   "metadata": {},
   "outputs": [],
   "source": []
  }
 ],
 "metadata": {
  "kernelspec": {
   "display_name": "Python 3",
   "language": "python",
   "name": "python3"
  },
  "language_info": {
   "codemirror_mode": {
    "name": "ipython",
    "version": 3
   },
   "file_extension": ".py",
   "mimetype": "text/x-python",
   "name": "python",
   "nbconvert_exporter": "python",
   "pygments_lexer": "ipython3",
   "version": "3.8.5"
  }
 },
 "nbformat": 4,
 "nbformat_minor": 4
}
